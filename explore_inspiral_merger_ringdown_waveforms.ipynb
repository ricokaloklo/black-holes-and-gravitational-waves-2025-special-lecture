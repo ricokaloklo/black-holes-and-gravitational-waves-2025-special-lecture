{
  "cells": [
    {
      "cell_type": "markdown",
      "id": "853dc5c0-4cd7-4986-b8bb-fa7a8ecf9673",
      "metadata": {
        "id": "853dc5c0-4cd7-4986-b8bb-fa7a8ecf9673"
      },
      "source": [
        "# Special Lecture for _Black Holes and Gravitational Waves_ on Inspiral-Merger-Ringdown (IMR) waveforms"
      ]
    },
    {
      "cell_type": "markdown",
      "id": "f3dff2a1-e775-424d-98ac-59f31298cd78",
      "metadata": {
        "id": "f3dff2a1-e775-424d-98ac-59f31298cd78"
      },
      "source": [
        "In this lecture (and the exercise session), we explore the full graviational-wave (GW) emission from a compact binary coalescence (CBC), beyond what was covered in [the lecture notes](https://github.com/MvdMeent/BlackHolesandGravitationalWaves/blob/main/Lecture_Notes_BHs_GWs.pdf) in Chapter 5, essentially continuing Section 5.3."
      ]
    },
    {
      "cell_type": "code",
      "execution_count": null,
      "id": "aaf28400-44c6-4644-b76b-155b4038c1c0",
      "metadata": {
        "id": "aaf28400-44c6-4644-b76b-155b4038c1c0"
      },
      "outputs": [],
      "source": [
        "# This is going to be an interactive session, start executing this cell to install all necessary software packages,\n",
        "# while we continue with the lecture\n",
        "!pip install lalsuite\n",
        "!pip install pycbc\n",
        "!pip install qnm\n",
        "!pip install pyRing"
      ]
    },
    {
      "cell_type": "markdown",
      "id": "05c62f6f-b746-4c93-b135-a5e95ef08bb4",
      "metadata": {
        "id": "05c62f6f-b746-4c93-b135-a5e95ef08bb4"
      },
      "source": [
        "## Waveform phenomenology and binary dynamics"
      ]
    },
    {
      "cell_type": "markdown",
      "id": "abbf9d42-dada-4006-b4ca-39a939f24163",
      "metadata": {
        "id": "abbf9d42-dada-4006-b4ca-39a939f24163"
      },
      "source": [
        "The coalescence of a compact binary system consists of three stages, namely the _inspiral_, _merger_ (sometimes late inspiral + merger), and _ringdown_. The GW emitted from each of the three stages has different characteristics, allowing us to model/approximate the gravitational waveform with different schemes, as there is still no analytical solution to the relativistic two-body problem throughout all three of the stages.\n",
        "\n",
        "Here we will be focusing on binary black hole (BBH) mergers.\n",
        "\n",
        "<center><img src=\"inspiral-merger-ringdown.png\" width=\"800\" height=\"400\"></center>\n",
        "Figure credit: Cattorini and Giacomazzo (2024)"
      ]
    },
    {
      "cell_type": "markdown",
      "id": "e1a7359e-e61f-4cbb-b507-138fc86ff982",
      "metadata": {
        "id": "e1a7359e-e61f-4cbb-b507-138fc86ff982"
      },
      "source": [
        "### Inspiral\n",
        "During the inspiral, the compact objects are (relatively) far away from each other. The GW emitted from the system \"hardens\" the orbit (that is, the orbit shrinks), as GW carries (binding) energy away from the system.\n",
        "\n",
        "This is a \"runaway\" process, where the two objects get closer and closer, emitting more GW at higher and higher frequencies (hence the name \"chirping waveform\", akin to birds chirping with increasing pitches).\n",
        "\n",
        "At this stage, the mutual gravity is still \"not strong enough\" to warrant a full general relativistic treatment. Instead, it is sufficient to use corrections to the Newtonian gravity theory to model the dynamics of the binary system. One such technique is known as the **Post-Newtonian Approximation**. With the PN approximation scheme, analytical solutions to the two-body motion can still be written, allowing us to also write down analytical waveforms.\n",
        "\n",
        "The quadrupolar formula in Eqs. 5.2.35 and 5.2.36, together with Eqs. 5.2.31 and 5.2.37 is a good example, where only the _leading order correction_ is included. Later in the class, we will see when the leading order correction becomes insufficient/inaccurate."
      ]
    },
    {
      "cell_type": "markdown",
      "id": "65fa2095-f1ea-4945-98c2-919259bad190",
      "metadata": {
        "id": "65fa2095-f1ea-4945-98c2-919259bad190"
      },
      "source": [
        "### Merger\n",
        "\n",
        "When the two compact objects get close enough such that the mutal gravity is strong, general relativistic effects need to be considered fully in order to describe their dynamics properly. The two objects will inevitably collide and merge together. This stage is thus referred to as the merger.\n",
        "\n",
        "In the equal mass-ratio limit, that is when the two objects have roughly the same mass, **numerical relativity** (NR) is usually employed. This means that the non-linear Einstein field equations are solved numerically, usually with supercomputers, as this is computationally intensive.\n",
        "\n",
        "While the theory of general relativity has been around for about 100+ years now, it was not until 2005 where a breakthrough was made in the NR community that allows for numerical simulations of binary black hole mergers for more than 1 complete cycle/orbit right before the merger."
      ]
    },
    {
      "cell_type": "markdown",
      "id": "7edccdfb-2244-4656-bcb5-f2e95473de3e",
      "metadata": {
        "id": "7edccdfb-2244-4656-bcb5-f2e95473de3e"
      },
      "source": [
        "### Ringdown\n",
        "\n",
        "After the violent collision, a black hole (BH) is formed as the remnant. However, this new black hole has been highly excited from the merger.\n",
        "\n",
        "As you have learned in Chapter 3, the BH will gradually relax to a stationary state by emitting GWs with certain characteristic oscillation modes (frequencies) called **quasi-normal modes** (QNMs) [cf Section 3.6 of the lecture notes]. A superposition of these QNMs will be an excellent description of the gravitational waveform some time later after the merger (or the peak of the waveform, so to speak).\n",
        "\n",
        "This is where the _black hole perturbation theory_ comes in, where one can compute the numerical values of these characteristic QNM frequencies. Later in the class, we will do exactly that and see that they are indeed a good match to the waveform."
      ]
    },
    {
      "cell_type": "markdown",
      "id": "c533340a-7da7-4556-9f92-06c0ee119e00",
      "metadata": {
        "id": "c533340a-7da7-4556-9f92-06c0ee119e00"
      },
      "source": [
        "## Generating a full IMR waveform"
      ]
    },
    {
      "cell_type": "markdown",
      "id": "4944f885-6c5d-4ddc-9e1a-1b103efc6f9c",
      "metadata": {
        "id": "4944f885-6c5d-4ddc-9e1a-1b103efc6f9c"
      },
      "source": [
        "The construction of a full IMR waveform is a highly non-trivial task, and in fact, it is one of the main and hot topics in the GW research community. We need these models for the IMR waveforms in order to search for them in the noisy LIGO-Virgo-KAGRA (LVK) data, as well as to characterize the sources of those GW signals. In fact, these will be covered later by Jose (see the timetable).\n",
        "\n",
        "Here, we will be using a number of codes where those waveform models (also referred to as \"waveform approximants\") are implemented, namely `LALSuite` and `PyCBC`."
      ]
    },
    {
      "cell_type": "code",
      "execution_count": null,
      "id": "8ff82489-0881-42bb-93d0-5dbc51888170",
      "metadata": {
        "id": "8ff82489-0881-42bb-93d0-5dbc51888170"
      },
      "outputs": [],
      "source": [
        "import numpy as np\n",
        "from matplotlib import pyplot as plt\n",
        "# Plotting configuration\n",
        "%matplotlib inline\n",
        "%config inlinebackend.figure_format = 'retina'\n",
        "plt.rcParams.update(\n",
        "    {\n",
        "        'text.usetex': False,\n",
        "        'axes.titlesize' : 14,\n",
        "        'axes.labelsize': 16,\n",
        "        'xtick.labelsize' : 16,\n",
        "        'ytick.labelsize' : 16,\n",
        "        'legend.fontsize': 14,\n",
        "    }\n",
        ")"
      ]
    },
    {
      "cell_type": "code",
      "execution_count": null,
      "id": "beabe742-6d12-4147-804f-956338626154",
      "metadata": {
        "scrolled": true,
        "id": "beabe742-6d12-4147-804f-956338626154"
      },
      "outputs": [],
      "source": [
        "# Importing packages\n",
        "import lal\n",
        "import pycbc.waveform"
      ]
    },
    {
      "cell_type": "markdown",
      "id": "445f9e40-ad1b-478b-aa09-2c722b4a2e68",
      "metadata": {
        "id": "445f9e40-ad1b-478b-aa09-2c722b4a2e68"
      },
      "source": [
        "Let us try to generate the complete IMR waveform for a $30M_{\\odot}-30M_{\\odot}$ non-rotating BBH system. In particular, we will be using an approximant codenamed `IMRPhenomTPHM` [Phys.Rev.D 105 (2022) 8, 084040].\n",
        "\n",
        "You are also welcomed to try using different models (use `pycbc.waveform.td_approximants()` to see what models are available to you)."
      ]
    },
    {
      "cell_type": "code",
      "execution_count": null,
      "id": "8d6ddcda-336a-414a-b1fa-37a6fe5fbc07",
      "metadata": {
        "id": "8d6ddcda-336a-414a-b1fa-37a6fe5fbc07"
      },
      "outputs": [],
      "source": [
        "# Defining the parameters\n",
        "mass1 = 30 # Msun\n",
        "mass2 = 30 # Msun\n",
        "distance = 100 # Mpc\n",
        "inc = 0 # rad"
      ]
    },
    {
      "cell_type": "code",
      "execution_count": null,
      "id": "9d6e0ecf-795b-4e92-b73e-ef21ef0a3863",
      "metadata": {
        "id": "9d6e0ecf-795b-4e92-b73e-ef21ef0a3863"
      },
      "outputs": [],
      "source": [
        "hp, hc = pycbc.waveform.get_td_waveform(\n",
        "    approximant=\"IMRPhenomTPHM\",\n",
        "    mass1=mass1,\n",
        "    mass2=mass2,\n",
        "    delta_t=1./16384,\n",
        "    f_lower=10,\n",
        "    distance=distance,\n",
        "    coa_phase=0,\n",
        "    inclination=inc,\n",
        "    mode_array=[[2,2],[2,-2]],\n",
        ")"
      ]
    },
    {
      "cell_type": "markdown",
      "id": "6f9caaf7-8e73-48cb-9ef7-e4eaa8a169b8",
      "metadata": {
        "id": "6f9caaf7-8e73-48cb-9ef7-e4eaa8a169b8"
      },
      "source": [
        "That is it! Now, let us try to plot both the plus $h_{+}$ and the cross $h_{\\times}$ polarization:"
      ]
    },
    {
      "cell_type": "code",
      "execution_count": null,
      "id": "6b3bb6ee-e22f-4954-8511-7f986c1a136d",
      "metadata": {
        "id": "6b3bb6ee-e22f-4954-8511-7f986c1a136d"
      },
      "outputs": [],
      "source": [
        "fig = plt.figure(dpi=150)\n",
        "ax = fig.gca()\n",
        "ax.plot(hp.sample_times, hp, label=\"plus polarization\")\n",
        "ax.plot(hc.sample_times, hc, label=\"cross polarization\")\n",
        "ax.set_xlabel(r\"$t - t_{\\rm c}$\" + \" [s]\")\n",
        "ax.set_ylabel(r\"$h_{+/\\times}(t)$\")\n",
        "plt.legend()"
      ]
    },
    {
      "cell_type": "markdown",
      "id": "4bd42992-fb7e-45bd-b669-9e0986313d73",
      "metadata": {
        "id": "4bd42992-fb7e-45bd-b669-9e0986313d73"
      },
      "source": [
        "Note that the plus and the cross polarizations are identical. This is because we are viewing the binary _face-on_. Also, both polarizations peak roughly at $t = t_{\\rm c}$. This is by construction since $t_{\\rm c}$ is the time of coalescence.\n",
        "\n",
        "Zooming in a little bit, we see that the two polarizations are phase lagged by $1/4$ of a cycle, or $1/4 \\times 2\\pi$ = $\\pi/2$ rad."
      ]
    },
    {
      "cell_type": "code",
      "execution_count": null,
      "id": "736a811a-c884-4777-8e02-363860e1051d",
      "metadata": {
        "id": "736a811a-c884-4777-8e02-363860e1051d"
      },
      "outputs": [],
      "source": [
        "ax.set_xlim(-6, -5)\n",
        "fig"
      ]
    },
    {
      "cell_type": "code",
      "execution_count": null,
      "id": "e05f2a62-59d4-4209-b2b3-1cdd24ad9b91",
      "metadata": {
        "id": "e05f2a62-59d4-4209-b2b3-1cdd24ad9b91"
      },
      "outputs": [],
      "source": [
        "# As a fun demonstration, you can actually \"hear\" the wave, since it is in audible frequency range\n",
        "hp.save_to_wav(\"hp.wav\")"
      ]
    },
    {
      "cell_type": "markdown",
      "id": "32bd871c-669d-4753-b61e-cfb124a47dec",
      "metadata": {
        "id": "32bd871c-669d-4753-b61e-cfb124a47dec"
      },
      "source": [
        "### Computing the instantaneous frequency $f(t)$"
      ]
    },
    {
      "cell_type": "markdown",
      "id": "fd705abc-11a1-42fb-b9c5-2c9c030def73",
      "metadata": {
        "id": "fd705abc-11a1-42fb-b9c5-2c9c030def73"
      },
      "source": [
        "In order to understand the IMR waveform that we just generated, we need to compute the instantaneous frequency of the GW, $f_{\\rm GW}(t)$.\n",
        "\n",
        "This can be done if we notice that we can write $h_{+,\\times}(t)$ as\n",
        "$$\n",
        "\\begin{aligned}\n",
        "h_{+}(t) & = A e^{i \\Phi_{\\rm GW}(t)} \\times \\frac{1}{2} \\left( 1 + \\cos^2 \\theta \\right) \\\\\n",
        "h_{\\times}(t) & = A e^{i \\Phi_{\\rm GW}(t)} \\times \\cos \\theta\n",
        "\\end{aligned},\n",
        "$$\n",
        "where $\\theta$ is the inclination and $\\Phi_{\\rm GW}$ is the phase of the waveform.\n",
        "\n",
        "\n",
        "Since we can obtain the frequency as $f_{\\rm GW}(t) = \\frac{1}{2\\pi} \\frac{d\\Phi_{\\rm GW}}{dt}$, we need to first get $\\Phi_{\\rm GW}$ from $h_{+,\\times}(t)$:"
      ]
    },
    {
      "cell_type": "code",
      "execution_count": null,
      "id": "1d1ae6e1-486b-45b8-8a61-0c465420f5cb",
      "metadata": {
        "id": "1d1ae6e1-486b-45b8-8a61-0c465420f5cb"
      },
      "outputs": [],
      "source": [
        "Yc = np.cos(inc)\n",
        "Yp = 0.5*(1 + Yc*Yc)\n",
        "phase = np.unwrap(np.arctan2(hc/Yc, hp/Yp)) # Why do we need to do this?\n",
        "f = np.gradient(phase, hp.delta_t)/(2*np.pi) # Simple finite difference method to estimate the derivative"
      ]
    },
    {
      "cell_type": "markdown",
      "id": "05220b39-7b4b-4d5b-bb9b-0950d9ac554d",
      "metadata": {
        "id": "05220b39-7b4b-4d5b-bb9b-0950d9ac554d"
      },
      "source": [
        "Now let us plot what we got"
      ]
    },
    {
      "cell_type": "code",
      "execution_count": null,
      "id": "1dff1629-76ac-4500-9cc6-dd4928733f64",
      "metadata": {
        "id": "1dff1629-76ac-4500-9cc6-dd4928733f64"
      },
      "outputs": [],
      "source": [
        "plt.figure(dpi=150)\n",
        "ax = plt.gca()\n",
        "ax.plot(hp.sample_times, f, label=\"full\")\n",
        "ax.axhline(1/(6*np.pi*np.sqrt(6)) * lal.C_SI**3/(lal.G_SI*(mass1+mass2)*lal.MSUN_SI), ls=\"--\", c=\"grey\", label=r\"$f_{\\rm ISCO}$\")\n",
        "ax.set_xlabel(r\"$t - t_{\\rm c}$\" + \" [s]\")\n",
        "ax.set_ylabel(r\"$f_{\\rm GW}(t)$\" + \" [Hz]\")\n",
        "plt.legend()"
      ]
    },
    {
      "cell_type": "markdown",
      "id": "7c88c198-dd59-4161-be83-7c1973e29483",
      "metadata": {
        "id": "7c88c198-dd59-4161-be83-7c1973e29483"
      },
      "source": [
        "## Modeling the inspiral with the quadrupole formula"
      ]
    },
    {
      "cell_type": "markdown",
      "id": "ffac49f6-085b-4e25-88c4-678fdc56cec4",
      "metadata": {
        "id": "ffac49f6-085b-4e25-88c4-678fdc56cec4"
      },
      "source": [
        "Here, we compare the quadrupole formula with the inspiral part of the complete IMR waveform.\n",
        "\n",
        "But first, let us implement the quadrupole formula here:"
      ]
    },
    {
      "cell_type": "code",
      "execution_count": null,
      "id": "ad9bd33c-58ed-47d3-b934-4c15199bfdc8",
      "metadata": {
        "id": "ad9bd33c-58ed-47d3-b934-4c15199bfdc8"
      },
      "outputs": [],
      "source": [
        "# Compute some more relevant quantities\n",
        "mchirp = (mass1*mass2)**(3./5) / (mass1+mass2)**(1./5)\n",
        "eta = (mass1*mass2)/(mass1 + mass2)**2\n",
        "mchirp, eta\n",
        "\n",
        "# Quadrupole formula for \\omega_{\\rm GW}(t)\n",
        "def f_gw(t_ret, mchirp):\n",
        "    return 1/(np.pi)*(5/256 * 1/t_ret)**(3./8)*(lal.G_SI*mchirp*lal.MSUN_SI/lal.C_SI**3)**(-5./8)\n",
        "\n",
        "def Phi_gw(t_ret, mchirp, Phi_c):\n",
        "    return -2*(5*lal.G_SI*mchirp*lal.MSUN_SI/lal.C_SI**3)**(-5./8)*t_ret**(5./8) + Phi_c"
      ]
    },
    {
      "cell_type": "code",
      "execution_count": null,
      "id": "8d42d57a-ef06-4659-aa6c-5a0cef08694a",
      "metadata": {
        "id": "8d42d57a-ef06-4659-aa6c-5a0cef08694a"
      },
      "outputs": [],
      "source": [
        "# What is the chirp mass?\n",
        "mchirp, eta"
      ]
    },
    {
      "cell_type": "code",
      "execution_count": null,
      "id": "3e751e8e-f255-48ce-8134-12b68fc8e323",
      "metadata": {
        "id": "3e751e8e-f255-48ce-8134-12b68fc8e323"
      },
      "outputs": [],
      "source": [
        "plt.figure(dpi=150)\n",
        "ax = plt.gca()\n",
        "ts = np.linspace(1e-4, 6, 50000)\n",
        "hp_quad = np.array([4/(distance*1e6*lal.PC_SI) * (lal.G_SI * mchirp * lal.MSUN_SI/lal.C_SI**2)**(5./3) * (np.pi/lal.C_SI * f_gw(_t, mchirp))**(2./3) * (1 + np.cos(inc)**2)/2 * np.cos(Phi_gw(_t, mchirp, 0)) for _t in ts])\n",
        "ax.plot(-ts[::-1], hp_quad[::-1], label=\"quadrupolar\")\n",
        "ax.plot(hp.sample_times, hp, label=\"full\", alpha=0.4)\n",
        "ax.set_xlabel(r\"$t - t_{\\rm c}$\" + \" [s]\")\n",
        "ax.set_ylabel(r\"$h_{+}(t)$\")\n",
        "ax.set_xlim(-6, -2)\n",
        "ax.set_ylim(-0.5e-20, 0.5e-20)\n",
        "plt.legend()"
      ]
    },
    {
      "cell_type": "markdown",
      "id": "84192044-5a78-49e4-b5e9-b27d7b0e2eef",
      "metadata": {
        "id": "84192044-5a78-49e4-b5e9-b27d7b0e2eef"
      },
      "source": [
        "As expected, the quadrupole formula is indeed a very good approximation early in the inspiral. But as the binary evolves, the _dephasing_ (that is, difference in the phase evolution) becomes apparent."
      ]
    },
    {
      "cell_type": "markdown",
      "id": "7d4ec67f-61cc-48ef-9c78-a1987572b647",
      "metadata": {
        "id": "7d4ec67f-61cc-48ef-9c78-a1987572b647"
      },
      "source": [
        "Let us also compare what the quadrupole formula predicts for $f_{\\rm GW}(t)$:"
      ]
    },
    {
      "cell_type": "code",
      "execution_count": null,
      "id": "b92db166-8995-420b-b3e5-c4ca5c51bb11",
      "metadata": {
        "id": "b92db166-8995-420b-b3e5-c4ca5c51bb11"
      },
      "outputs": [],
      "source": [
        "fig = plt.figure(dpi=150)\n",
        "ax = plt.gca()\n",
        "ts = np.linspace(1e-4, 6, 5000)\n",
        "ax.plot(-ts[::-1], np.array([f_gw(_t, mchirp) for _t in ts])[::-1], label=\"quadrupolar\")\n",
        "ax.plot(hp.sample_times, f, label=\"full\")\n",
        "ax.axhline(1/(6*np.pi*np.sqrt(6)) * lal.C_SI**3/(lal.G_SI*(mass1+mass2)*lal.MSUN_SI), ls=\"--\", c=\"grey\", label=r\"$f_{\\rm ISCO}$\")\n",
        "ax.set_xlabel(r\"$t - t_{\\rm c}$\" + \" [s]\")\n",
        "ax.set_ylabel(r\"$f_{\\rm GW}(t)$\" + \" [Hz]\")\n",
        "plt.legend()"
      ]
    },
    {
      "cell_type": "markdown",
      "id": "da0a1dac-34fc-409e-98f2-0785176651d8",
      "metadata": {
        "id": "da0a1dac-34fc-409e-98f2-0785176651d8"
      },
      "source": [
        "#### Questions/Exercises:\n",
        "\n",
        "1. Why does the quadrupolar one blow up near the merger? Is this physical?\n",
        "2. Estimate the radiated energy from GW emission, using the information you have from this plot. (Hint: Use Eq. 5.2.57)"
      ]
    },
    {
      "cell_type": "markdown",
      "id": "2d389c30-0dc7-439b-9264-5435bfe3e738",
      "metadata": {
        "id": "2d389c30-0dc7-439b-9264-5435bfe3e738"
      },
      "source": [
        "## Modeling the ringdown with QNMs"
      ]
    },
    {
      "cell_type": "markdown",
      "id": "04c91ed5-729d-4531-b092-8f1a8f441bac",
      "metadata": {
        "id": "04c91ed5-729d-4531-b092-8f1a8f441bac"
      },
      "source": [
        "Now we switch gear and look at the waveform after the peak/the merger, which is the ringdown.\n",
        "\n",
        "Here, we will try to compute what the QNM frequencies should be and see that they indeed show up in the waveform. In order to do so (using black hole perturbation theory), we first need to know what the mass and the spin (rotation parameter) of the remnant black hole are. Luckily, we have various fits from numerical relativity simulations at our disposal, without needing to run those expensive simulations ourselves!"
      ]
    },
    {
      "cell_type": "code",
      "execution_count": null,
      "id": "c4ac262f-733f-4cc7-934a-a9b23282fb86",
      "metadata": {
        "id": "c4ac262f-733f-4cc7-934a-a9b23282fb86"
      },
      "outputs": [],
      "source": [
        "# Estimate final mass and final spin\n",
        "from lalinference.imrtgr.nrutils import bbh_final_mass_projected_spins, bbh_final_spin_projected_spins, bbh_Kerr_trunc_opts\n",
        "\n",
        "# In particular, we use the UIB2016 fit\n",
        "Mf = bbh_final_mass_projected_spins(mass1, mass2, 0, 0, 0, 0, 'UIB2016')\n",
        "chif = bbh_final_spin_projected_spins(mass1, mass2, 0, 0, 0, 0, 'UIB2016', truncate=bbh_Kerr_trunc_opts.trunc)\n",
        "Mf, chif"
      ]
    },
    {
      "cell_type": "markdown",
      "id": "99eb8f96-314b-4977-942c-96266bfab412",
      "metadata": {
        "id": "99eb8f96-314b-4977-942c-96266bfab412"
      },
      "source": [
        "With this, we are ready to compute the QNM frequencies! To do that, we \"only\" need to solve for both the radial and the angular Teukolsky equation, subject to the QNM boundary conditions. Just like (non-relativistic) quantum mechanics, only a discrete set of values/frequencies can satisfy those conditions.\n",
        "\n",
        "In the interest of time, we will use a python package `qnm` to \"do\" the calculation (actually they have been precomputed)."
      ]
    },
    {
      "cell_type": "code",
      "execution_count": null,
      "id": "00530901-e011-4f3d-b66e-1fcd8dd6dfd6",
      "metadata": {
        "id": "00530901-e011-4f3d-b66e-1fcd8dd6dfd6"
      },
      "outputs": [],
      "source": [
        "import qnm\n",
        "\n",
        "grav_220 = qnm.modes_cache(s=-2,l=2,m=2,n=0)\n",
        "omega, A, C = grav_220(a=chif)\n",
        "omega"
      ]
    },
    {
      "cell_type": "markdown",
      "id": "ee47de14-f5d0-437c-a0d4-60f7be5b52b5",
      "metadata": {
        "id": "ee47de14-f5d0-437c-a0d4-60f7be5b52b5"
      },
      "source": []
    },
    {
      "cell_type": "code",
      "execution_count": null,
      "id": "1268091f-99a1-4905-8541-96ad566691fd",
      "metadata": {
        "id": "1268091f-99a1-4905-8541-96ad566691fd"
      },
      "outputs": [],
      "source": [
        "rd_ts = np.linspace(0, 100, 5000) # Here, in units of M = mass1+mass2, from 10M\n",
        "fig = plt.figure(dpi=150)\n",
        "ax = fig.gca()\n",
        "ax.plot((rd_ts+10)*(mass1+mass2)*lal.MTSUN_SI, 5e-21*np.real(np.exp(1j*np.conj(omega)*rd_ts)), label=\"ringdown\")\n",
        "ax.plot(hp.sample_times, hp, label=\"full\", alpha=0.4)\n",
        "ax.set_xlabel(r\"$t - t_{\\rm c}$\" + \" [s]\")\n",
        "ax.set_ylabel(r\"$h_{+}(t)$\")\n",
        "ax.set_xlim(-0.01, 0.05)\n",
        "ax.axvline(10*(mass1+mass2)*lal.MTSUN_SI, ls=\"--\", c=\"grey\", label=r\"$10M$\")\n",
        "plt.legend()"
      ]
    },
    {
      "cell_type": "code",
      "execution_count": null,
      "id": "4998c7d6-6c9f-4543-b0d5-12cb1f62a10b",
      "metadata": {
        "id": "4998c7d6-6c9f-4543-b0d5-12cb1f62a10b"
      },
      "outputs": [],
      "source": []
    }
  ],
  "metadata": {
    "kernelspec": {
      "display_name": "Python 3 (ipykernel)",
      "language": "python",
      "name": "python3"
    },
    "language_info": {
      "codemirror_mode": {
        "name": "ipython",
        "version": 3
      },
      "file_extension": ".py",
      "mimetype": "text/x-python",
      "name": "python",
      "nbconvert_exporter": "python",
      "pygments_lexer": "ipython3",
      "version": "3.11.12"
    },
    "colab": {
      "provenance": []
    }
  },
  "nbformat": 4,
  "nbformat_minor": 5
}